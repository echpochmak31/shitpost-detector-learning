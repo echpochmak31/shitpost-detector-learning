{
 "cells": [
  {
   "cell_type": "code",
   "execution_count": 1,
   "id": "36f325e6-5f20-4c61-b0b5-7bb9e719cd81",
   "metadata": {},
   "outputs": [
    {
     "name": "stdout",
     "output_type": "stream",
     "text": [
      "{\"_type\": \"snscrape.modules.telegram.TelegramPost\", \"url\": \"https://t.me/s/ShitpostingMichael/399\", \"date\": \"2023-12-26T09:53:08+00:00\", \"content\": null, \"outlinks\": [], \"linkPreview\": null, \"outlinksss\": \"\", \"_snscrape\": \"0.7.0.20230622\"}\n",
      "{\"_type\": \"snscrape.modules.telegram.TelegramPost\", \"url\": \"https://t.me/s/ShitpostingMichael/398\", \"date\": \"2023-12-26T09:52:05+00:00\", \"content\": \"\\u0417\\u0430\\u0442\\u043e \\u0413\\u043e\\u0441\\u043b\\u0438\\u043d\\u0433 \\u0434\\u0430\\u043b \\u043f\\u043e\\u0447\\u0435\n"
     ]
    }
   ],
   "source": [
    "import json\n",
    "filename = 'misha'\n",
    "file = f'./data/raw/{filename}.txt'\n",
    "\n",
    "data = ''\n",
    "with open(file) as f:\n",
    "    data = f.read()\n",
    "\n",
    "print(data[:500])"
   ]
  },
  {
   "cell_type": "code",
   "execution_count": 2,
   "id": "e48c3491-094e-40ab-b58e-a9be22f8d892",
   "metadata": {},
   "outputs": [
    {
     "data": {
      "text/plain": [
       "'{\"_type\": \"snscrape.modules.telegram.TelegramPost\", \"url\": \"https://t.me/s/ShitpostingMichael/399\", \"date\": \"2023-12-26T09:53:08+00:00\", \"content\": null, \"outlinks\": [], \"linkPreview\": null, \"outlinksss\": \"\", \"_snscrape\": \"0.7.0.20230622\"}\\n{\"_type\": \"snscrape.modules.telegram.TelegramPost\", \"url\": \"'"
      ]
     },
     "execution_count": 2,
     "metadata": {},
     "output_type": "execute_result"
    }
   ],
   "source": [
    "decoded_text = data.encode().decode('unicode-escape')\n",
    "decoded_text[:300]"
   ]
  },
  {
   "cell_type": "code",
   "execution_count": 3,
   "id": "c6f5c81e-0bfe-4c2c-be47-ee5c5432cade",
   "metadata": {},
   "outputs": [],
   "source": [
    "import re\n",
    "\n",
    "pattern = r'\"content\"\\s*:\\s*\"([^\"]+)\"'\n",
    "\n",
    "# Используем re.findall для поиска всех совпадений\n",
    "matches = re.findall(pattern, decoded_text)\n",
    "# Выводим найденные значения для ключа \"content\"\n"
   ]
  },
  {
   "cell_type": "code",
   "execution_count": 4,
   "id": "f0aacb7e-5e67-48f9-bb1c-43f61e686957",
   "metadata": {},
   "outputs": [],
   "source": [
    "url_pattern = r'https?://\\S+'\n",
    "\n",
    "# Функция для проверки, является ли строка URL\n",
    "def is_url(line):\n",
    "    return re.match(url_pattern, line) is not None\n",
    "\n",
    "# Фильтруем строки, оставляя только те, которые не являются URL\n",
    "filtered_lines = [line for line in matches if not is_url(line)]"
   ]
  },
  {
   "cell_type": "code",
   "execution_count": 5,
   "id": "5614b24c-fb91-4df3-8111-326ddabe1264",
   "metadata": {},
   "outputs": [],
   "source": [
    "filtered_lines = [line for line in filtered_lines if len(line) > 30]"
   ]
  },
  {
   "cell_type": "code",
   "execution_count": 6,
   "id": "b7998f9b-6814-4711-93ec-14e88f553fac",
   "metadata": {},
   "outputs": [],
   "source": [
    "with open(f'./data/shitpost/{filename}_shitpost.txt', 'w+', encoding='utf-8', errors='ignore') as f:\n",
    "    for line in filtered_lines:\n",
    "        f.write(line.lower())\n",
    "        f.write('\\n')\n"
   ]
  },
  {
   "cell_type": "code",
   "execution_count": null,
   "id": "e88ee03a-efc0-4eb9-a2bf-30e94f0c7321",
   "metadata": {},
   "outputs": [],
   "source": []
  }
 ],
 "metadata": {
  "kernelspec": {
   "display_name": "Python 3 (ipykernel)",
   "language": "python",
   "name": "python3"
  },
  "language_info": {
   "codemirror_mode": {
    "name": "ipython",
    "version": 3
   },
   "file_extension": ".py",
   "mimetype": "text/x-python",
   "name": "python",
   "nbconvert_exporter": "python",
   "pygments_lexer": "ipython3",
   "version": "3.10.0"
  }
 },
 "nbformat": 4,
 "nbformat_minor": 5
}
