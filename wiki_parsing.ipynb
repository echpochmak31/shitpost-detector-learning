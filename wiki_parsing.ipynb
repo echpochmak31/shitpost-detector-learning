{
 "cells": [
  {
   "cell_type": "code",
   "execution_count": 25,
   "id": "d86d717e-6f98-432e-a231-1083af258285",
   "metadata": {},
   "outputs": [
    {
     "name": "stdout",
     "output_type": "stream",
     "text": [
      "Сантиссимо-Реденторе-э-Сант-Альфонсо-ин-виа-Мерулана (лат. Titulus Sanctissimi Redemptoris et Sancti Alfonsi in Exquiliis) — титулярная церковь была создана Папой Иоанном XXIII 30 декабря 1960 года апостольской конституцией Plurima quae. Титул принадлежит церкви Сантиссимо-Реденторе-э-Сант-Альфонсо-ин-виа-Мерулана, приходской церкви и запасного места для церковных служб прихода Санта-Мария-Маджоре-ин-Сан-Вито, расположенной в районе Рима Эсквилино, на виа Мерулана.\n"
     ]
    }
   ],
   "source": [
    "from bs4 import BeautifulSoup\n",
    "import requests\n",
    " \n",
    "# Получаем URL случайной страницы с Википедии\n",
    "page = requests.get(\"https://ru.wikipedia.org/wiki/Служебная:Случайная_страница\")\n",
    " \n",
    "# Создаем объект BeautifulSoup\n",
    "soup = BeautifulSoup(page.content, 'html.parser')\n",
    " \n",
    "# Находим все вхождения тега 'p' в HTML\n",
    "# Включает в себя HTML-теги\n",
    "paragraphs = soup.find_all('p')\n",
    " \n",
    "# Выводим только текст без HTML-тегов для непустых строк\n",
    "for paragraph in paragraphs:\n",
    "    text = paragraph.get_text().strip()\n",
    "    if text:\n",
    "        print(text)"
   ]
  },
  {
   "cell_type": "code",
   "execution_count": 21,
   "id": "e44107c1-6f9f-427e-9d07-fa676b9aa72f",
   "metadata": {},
   "outputs": [
    {
     "data": {
      "text/plain": [
       "'Робер дю Бюссон завещал свою коллекцию перепончатокрылых лаборатории энтомологии Национального музея естествознания.\\n'"
      ]
     },
     "execution_count": 21,
     "metadata": {},
     "output_type": "execute_result"
    }
   ],
   "source": [
    "a = paragraphs[5]\n",
    "a.get_text()"
   ]
  },
  {
   "cell_type": "code",
   "execution_count": 27,
   "id": "5b58fdb6-c6ab-4c47-8044-c4343348d4d5",
   "metadata": {},
   "outputs": [],
   "source": [
    "def parse_random_wiki_page(output_file):\n",
    "    page = requests.get(\"https://ru.wikipedia.org/wiki/Служебная:Случайная_страница\")\n",
    "    soup = BeautifulSoup(page.content, 'html.parser')\n",
    "    paragraphs = soup.find_all('p')\n",
    "    f = open(output_file, \"w+\", encoding='utf-8')\n",
    "    for paragraph in paragraphs:\n",
    "        text = paragraph.get_text().strip()\n",
    "        if text:\n",
    "            f.write(text)\n",
    "            f.write('\\n')\n",
    "    f.close()\n",
    "\n"
   ]
  },
  {
   "cell_type": "code",
   "execution_count": 35,
   "id": "05722102-e02b-41c8-9f71-9a40f21cb027",
   "metadata": {},
   "outputs": [],
   "source": [
    "path = './data/wiki/wikipages1.txt'\n",
    "\n",
    "parse_random_wiki_page(path)"
   ]
  },
  {
   "cell_type": "code",
   "execution_count": 36,
   "id": "b2bc6703-da38-499e-a121-ddbd961248ed",
   "metadata": {},
   "outputs": [],
   "source": [
    "def parse_random_wiki_pages(output_file, n):\n",
    "    f = open(output_file, \"w+\", encoding='utf-8')\n",
    "    \n",
    "    for i in range(n):\n",
    "        page = requests.get(\"https://ru.wikipedia.org/wiki/Служебная:Случайная_страница\")\n",
    "        soup = BeautifulSoup(page.content, 'html.parser')\n",
    "        paragraphs = soup.find_all('p')\n",
    "        for paragraph in paragraphs:\n",
    "            text = paragraph.get_text().strip()\n",
    "            if text:\n",
    "                f.write(text)\n",
    "                f.write('\\n')\n",
    "    f.close()"
   ]
  },
  {
   "cell_type": "code",
   "execution_count": 37,
   "id": "494800ef-ddfa-4609-a7d3-42165876152f",
   "metadata": {},
   "outputs": [],
   "source": [
    "parse_random_wiki_pages(path, 100)"
   ]
  },
  {
   "cell_type": "code",
   "execution_count": null,
   "id": "c07cff34-ce8a-4851-a0e0-982b70cf4e25",
   "metadata": {},
   "outputs": [],
   "source": []
  }
 ],
 "metadata": {
  "kernelspec": {
   "display_name": "Python 3 (ipykernel)",
   "language": "python",
   "name": "python3"
  },
  "language_info": {
   "codemirror_mode": {
    "name": "ipython",
    "version": 3
   },
   "file_extension": ".py",
   "mimetype": "text/x-python",
   "name": "python",
   "nbconvert_exporter": "python",
   "pygments_lexer": "ipython3",
   "version": "3.10.0"
  }
 },
 "nbformat": 4,
 "nbformat_minor": 5
}
